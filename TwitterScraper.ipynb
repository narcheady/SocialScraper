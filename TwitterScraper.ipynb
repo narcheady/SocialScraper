{
 "cells": [
  {
   "cell_type": "code",
   "execution_count": 28,
   "metadata": {},
   "outputs": [
    {
     "name": "stdout",
     "output_type": "stream",
     "text": [
      "We've detected that JavaScript is disabled in your browser. Would you like to proceed to legacy Twitter?\n",
      "gotcha\n"
     ]
    }
   ],
   "source": [
    "import requests\n",
    "from bs4 import BeautifulSoup\n",
    "\n",
    "url = \"https://twitter.com/search?q=depressed&src=typed_query\"\n",
    "\n",
    "response = requests.get(url)\n",
    "\n",
    "soup = BeautifulSoup(response.text, \"html.parser\")\n",
    "\n",
    "print(soup.find_all('p')[0].get_text())\n",
    "\n",
    "if soup.find_all('p')[0].get_text() == \"We've detected that JavaScript is disabled in your browser. Would you like to proceed to legacy Twitter?\" :\n",
    "    print(\"gotcha\")\n",
    "else:\n",
    "    print(\"fail\")"
   ]
  },
  {
   "cell_type": "code",
   "execution_count": 1,
   "metadata": {},
   "outputs": [],
   "source": [
    "import requests\n",
    "from bs4 import BeautifulSoup\n",
    "from urllib.parse import quote\n",
    "import pandas as pd"
   ]
  },
  {
   "cell_type": "code",
   "execution_count": 2,
   "metadata": {},
   "outputs": [
    {
     "name": "stdout",
     "output_type": "stream",
     "text": [
      "Oops!  list index out of range  7\n",
      "https://mobile.twitter.com/search?q=%23depressed%20since%3A2020-01-01%20until%3A2020-09-19&next_cursor=thGAVUV0VFVBaAwKH1t7rqmSQWjICwya3a4qMkEhjIBQQ9VDthRbvUAAAAAAAAFXwAAAAHAAAAVoxOEhbxlCGDx5RJhMIhGK4oUHqxiGXywtS9pyEQ6BzC-TKuAC-AgCpRLTjNpRoEIvwHJOFdgzJhAk7Rhb8SxHjxgyPHLysnZAIkKZAY5ZI-UKpXVkAhQkOqQgnTqoapDk2vAYQsF-bZQSWFMhbn7QUPUwBggdLAJpAN1sIHPAXTGNrgEpiLJso7WMPypLmT-EgKUzoARRE0UFymaAmTmBCbEVDUNCV8EQOQqCoaEpkozWYpxHDVFFGiCUjERMLQUYQAgmVYFC80t7CXHkCFMCSSISHMHUHECFxgpaJ5pQ5QYbE8ouVnRFKcWWVgiIpDsSiBAoAXMPHrFMQTEbKRmDCELUwR_SVUSo5SgxA0d4JYYAuMoOYKwCpMJl4xMriZLBjEijlGBrUO1OiOrRKiWgSXECiHG8frwIdojBcKFgIAWAUjEuBDDmGd7HAK5ARTdoIFVGCDQBKlMY0nuRpApGTwNRK44wgdAIAYCAbTrbioECyfCSBIyAYVsrBiEgL2aYgRpIAxfWRuCQEMIIARAyyAhKZ9Q2VpEYuHiwtJJi5UAGZFyozl2RWdGSeMpQ7XgoCGus7BoIkAOB8o4HNOcBEPHMQK6SiJOQFKQQgypZibWmKwMkUJAMF0IUKwERpzOA5hBktlKiXVrLgkH4oSoAH4ISgPTAFi4UB6gZCopEoQOTReYwsiQKaV4xDDG64cWIo8ALxASjWjIrfIWQIeRIrUyK55ilhS2ggmEDniFWdoB6ZbyzzJFgOaT00JUBhSJhgVAIGRhmlQxUR2qAkG6CnLKCgalAgSlqwyACCYdYDAuRMocRACPAwIhiiKiFEW4BqwVGEgy8UGsEblKENBjJsHiET60lCDXm-SjtJsmrg8JRDczAEBtZEwAtACp8rjbQSUSwE4C1AKAozMDzAWYJEVABUAFQAlAFU2FQAVARUAFQAA\n"
     ]
    }
   ],
   "source": [
    "class PostsFromTwitter:\n",
    "\n",
    "    def __init__(self, query,fromDate,toDate):\n",
    "        \n",
    "        ''' URL examples\n",
    "        https://mobile.twitter.com/search?q=depressed%2Canxiety&src=typed_query\n",
    "        https://mobile.twitter.com/search?q=%23depressed%23anxiety&src=typed_query\n",
    "        https://mobile.twitter.com/search?q=%23depressed+since%3A2020-01-01+until%3A2020-09-19\n",
    "        '''\n",
    "        self.query = quote(query.strip())\n",
    "        self.fromDate = fromDate\n",
    "        self.toDate = toDate\n",
    "        self.after_part = (\n",
    "            f\"&src=typed_query\"\n",
    "        )\n",
    "        self.url = f\"https://mobile.twitter.com/search?q={self.query}+since%3A{self.fromDate}+until%3A{self.toDate}\"\n",
    "        self.url += self.after_part\n",
    "        self.tweets = []\n",
    "\n",
    "    def scrape_tweets(self):\n",
    "        \n",
    "        reloadCount = 35\n",
    "        \n",
    "        while reloadCount > 0 :\n",
    "            #print(\"URL to be scraped :: \", self.url)\n",
    "            content = requests.get(self.url)\n",
    "            soup = BeautifulSoup(content.text, \"html.parser\")\n",
    "            tweet_divs = soup.select(\"#main_content\")[0].select(\".tweet\")\n",
    "#             print(tweet_divs)\n",
    "\n",
    "#             firstId = int(tweet_divs[0].find(\"div\", {\"class\": \"tweet-text\"})['data-id'])\n",
    "#             lastId = int(tweet_divs[19].find(\"div\", {\"class\": \"tweet-text\"})['data-id'])\n",
    "#             print(firstId)\n",
    "#             print(lastId)\n",
    "\n",
    "            for tweet in tweet_divs:\n",
    "                handle = tweet.find(\"div\", {\"class\": \"username\"}).text.replace(\"\\n\", \" \").strip()\n",
    "                post = tweet.find(\"div\", {\"class\": \"tweet-text\"}).text.replace(\"\\n\", \" \").strip()\n",
    "                tweetId = int(tweet.find(\"div\", {\"class\": \"tweet-text\"})['data-id'])\n",
    "                timestamp = tweet.find(\"td\", {\"class\": \"timestamp\"}).find('a').text.replace(\"\\n\", \" \").strip()\n",
    "                self.tweets.append([tweetId,handle,post,timestamp])\n",
    "\n",
    "\n",
    "            loadMoreButton = soup.select(\"#main_content\")[0].select(\".w-button-more\")\n",
    "            try:\n",
    "                nextCursorUrl = \"https://mobile.twitter.com\"+loadMoreButton[0].find('a')['href']\n",
    "            except IndexError:\n",
    "                print(\"Oops!  list index out of range \" , reloadCount)\n",
    "                break\n",
    "            self.url = nextCursorUrl\n",
    "            \n",
    "            reloadCount = reloadCount - 1\n",
    "        \n",
    "        print(self.url)\n",
    "        return self.tweets\n",
    "\n",
    "\n",
    "x = PostsFromTwitter(\"#depressed\",\"2020-01-01\",\"2020-09-19\")\n",
    "final_list = x.scrape_tweets()"
   ]
  },
  {
   "cell_type": "code",
   "execution_count": 3,
   "metadata": {},
   "outputs": [
    {
     "name": "stdout",
     "output_type": "stream",
     "text": [
      "[1304307667502903296, '@lifeupeducation', 'For real   #help #love #depression #sad #life #sadness #follow #depressed #anxiety #mentalhealth #instagram #support #l #cry #insta #me #art #broken #hope #god #memes #crying #sadquotes #mood #rescue #alone #like #funny #tears #bhfyp pic.twitter.com/HfNLEWuy3y', 'Sep 10']\n"
     ]
    },
    {
     "data": {
      "text/plain": [
       "395"
      ]
     },
     "execution_count": 3,
     "metadata": {},
     "output_type": "execute_result"
    }
   ],
   "source": [
    "print(final_list[len(final_list)-1])\n",
    "len(final_list)"
   ]
  },
  {
   "cell_type": "code",
   "execution_count": 4,
   "metadata": {},
   "outputs": [
    {
     "data": {
      "text/html": [
       "<div>\n",
       "<style scoped>\n",
       "    .dataframe tbody tr th:only-of-type {\n",
       "        vertical-align: middle;\n",
       "    }\n",
       "\n",
       "    .dataframe tbody tr th {\n",
       "        vertical-align: top;\n",
       "    }\n",
       "\n",
       "    .dataframe thead th {\n",
       "        text-align: right;\n",
       "    }\n",
       "</style>\n",
       "<table border=\"1\" class=\"dataframe\">\n",
       "  <thead>\n",
       "    <tr style=\"text-align: right;\">\n",
       "      <th></th>\n",
       "      <th>tweet_id</th>\n",
       "      <th>@</th>\n",
       "      <th>tweet</th>\n",
       "      <th>date</th>\n",
       "    </tr>\n",
       "  </thead>\n",
       "  <tbody>\n",
       "    <tr>\n",
       "      <td>0</td>\n",
       "      <td>1306491288850706433</td>\n",
       "      <td>@Austin7397</td>\n",
       "      <td>It hurts. It hurts a lot. But I'll keep it to ...</td>\n",
       "      <td>Sep 17</td>\n",
       "    </tr>\n",
       "    <tr>\n",
       "      <td>1</td>\n",
       "      <td>1307095401883893764</td>\n",
       "      <td>@Zee_Kamboh_25</td>\n",
       "      <td>#Depressed...? Earphones..! Volume up..! And i...</td>\n",
       "      <td>20h</td>\n",
       "    </tr>\n",
       "    <tr>\n",
       "      <td>2</td>\n",
       "      <td>1306679415548641281</td>\n",
       "      <td>@I_Wicked1</td>\n",
       "      <td>Why won't you stop me.....  #depressed</td>\n",
       "      <td>Sep 17</td>\n",
       "    </tr>\n",
       "    <tr>\n",
       "      <td>3</td>\n",
       "      <td>1306760408745811968</td>\n",
       "      <td>@PHMIWTKM</td>\n",
       "      <td>Some times you just gotta walk away #hurt #dep...</td>\n",
       "      <td>Sep 17</td>\n",
       "    </tr>\n",
       "    <tr>\n",
       "      <td>4</td>\n",
       "      <td>1306503153936859136</td>\n",
       "      <td>@DoctorsDanger1</td>\n",
       "      <td>Are you #depressed? Check your #gut_health. us...</td>\n",
       "      <td>Sep 17</td>\n",
       "    </tr>\n",
       "    <tr>\n",
       "      <td>...</td>\n",
       "      <td>...</td>\n",
       "      <td>...</td>\n",
       "      <td>...</td>\n",
       "      <td>...</td>\n",
       "    </tr>\n",
       "    <tr>\n",
       "      <td>390</td>\n",
       "      <td>1305475256828735489</td>\n",
       "      <td>@slowlydyingrns</td>\n",
       "      <td>Part 2️⃣ Ever wonder why it’s so hard to let g...</td>\n",
       "      <td>Sep 14</td>\n",
       "    </tr>\n",
       "    <tr>\n",
       "      <td>391</td>\n",
       "      <td>1305929713819570177</td>\n",
       "      <td>@thercftasued</td>\n",
       "      <td>Day 046/100  God is a mighty Healer  #100daysw...</td>\n",
       "      <td>Sep 15</td>\n",
       "    </tr>\n",
       "    <tr>\n",
       "      <td>392</td>\n",
       "      <td>1306873092539445248</td>\n",
       "      <td>@themeeraki</td>\n",
       "      <td>Best Natural Supplement for Depression  #depre...</td>\n",
       "      <td>Sep 18</td>\n",
       "    </tr>\n",
       "    <tr>\n",
       "      <td>393</td>\n",
       "      <td>1304292646668566528</td>\n",
       "      <td>@ConnectForeign</td>\n",
       "      <td>Being correct means zero. Being helpful means ...</td>\n",
       "      <td>Sep 10</td>\n",
       "    </tr>\n",
       "    <tr>\n",
       "      <td>394</td>\n",
       "      <td>1304307667502903296</td>\n",
       "      <td>@lifeupeducation</td>\n",
       "      <td>For real   #help #love #depression #sad #life ...</td>\n",
       "      <td>Sep 10</td>\n",
       "    </tr>\n",
       "  </tbody>\n",
       "</table>\n",
       "<p>395 rows × 4 columns</p>\n",
       "</div>"
      ],
      "text/plain": [
       "                tweet_id                 @  \\\n",
       "0    1306491288850706433       @Austin7397   \n",
       "1    1307095401883893764    @Zee_Kamboh_25   \n",
       "2    1306679415548641281        @I_Wicked1   \n",
       "3    1306760408745811968         @PHMIWTKM   \n",
       "4    1306503153936859136   @DoctorsDanger1   \n",
       "..                   ...               ...   \n",
       "390  1305475256828735489   @slowlydyingrns   \n",
       "391  1305929713819570177     @thercftasued   \n",
       "392  1306873092539445248       @themeeraki   \n",
       "393  1304292646668566528   @ConnectForeign   \n",
       "394  1304307667502903296  @lifeupeducation   \n",
       "\n",
       "                                                 tweet    date  \n",
       "0    It hurts. It hurts a lot. But I'll keep it to ...  Sep 17  \n",
       "1    #Depressed...? Earphones..! Volume up..! And i...     20h  \n",
       "2               Why won't you stop me.....  #depressed  Sep 17  \n",
       "3    Some times you just gotta walk away #hurt #dep...  Sep 17  \n",
       "4    Are you #depressed? Check your #gut_health. us...  Sep 17  \n",
       "..                                                 ...     ...  \n",
       "390  Part 2️⃣ Ever wonder why it’s so hard to let g...  Sep 14  \n",
       "391  Day 046/100  God is a mighty Healer  #100daysw...  Sep 15  \n",
       "392  Best Natural Supplement for Depression  #depre...  Sep 18  \n",
       "393  Being correct means zero. Being helpful means ...  Sep 10  \n",
       "394  For real   #help #love #depression #sad #life ...  Sep 10  \n",
       "\n",
       "[395 rows x 4 columns]"
      ]
     },
     "execution_count": 4,
     "metadata": {},
     "output_type": "execute_result"
    }
   ],
   "source": [
    "df = pd.DataFrame(final_list,columns=['tweet_id','@','tweet','date'])\n",
    "df"
   ]
  },
  {
   "cell_type": "code",
   "execution_count": null,
   "metadata": {},
   "outputs": [],
   "source": []
  }
 ],
 "metadata": {
  "kernelspec": {
   "display_name": "Python 3",
   "language": "python",
   "name": "python3"
  },
  "language_info": {
   "codemirror_mode": {
    "name": "ipython",
    "version": 3
   },
   "file_extension": ".py",
   "mimetype": "text/x-python",
   "name": "python",
   "nbconvert_exporter": "python",
   "pygments_lexer": "ipython3",
   "version": "3.7.4"
  }
 },
 "nbformat": 4,
 "nbformat_minor": 4
}
