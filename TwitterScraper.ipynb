{
 "cells": [
  {
   "cell_type": "code",
   "execution_count": 64,
   "metadata": {},
   "outputs": [
    {
     "name": "stdout",
     "output_type": "stream",
     "text": [
      "We've detected that JavaScript is disabled in your browser. Would you like to proceed to legacy Twitter?\n"
     ]
    }
   ],
   "source": [
    "#Request test block\n",
    "import requests\n",
    "from bs4 import BeautifulSoup\n",
    "\n",
    "url = \"https://twitter.com/search?q=depressed&src=typed_query\"\n",
    "\n",
    "response = requests.get(url)\n",
    "\n",
    "soup = BeautifulSoup(response.text, \"html.parser\")\n",
    "\n",
    "print(soup.find_all('p')[0].get_text())\n",
    "\n",
    "#This is what we get if perform a GET request on Twitter URL : https://twitter.com/search?q=depressed&src=typed_query"
   ]
  },
  {
   "cell_type": "code",
   "execution_count": 21,
   "metadata": {},
   "outputs": [],
   "source": [
    "import requests\n",
    "from bs4 import BeautifulSoup\n",
    "from urllib.parse import quote\n",
    "import pandas as pd\n",
    "import datetime"
   ]
  },
  {
   "cell_type": "code",
   "execution_count": 51,
   "metadata": {},
   "outputs": [
    {
     "name": "stdout",
     "output_type": "stream",
     "text": [
      "37\n",
      "True\n",
      "hey 2020-09-12\n",
      "https://mobile.twitter.com/search?q=%23depressed+since%3A2020-01-01+until%3Anewwwwwwwwwwwwww&src=typed_query\n",
      "1900-09-11\n"
     ]
    }
   ],
   "source": [
    "#This is experiment block\n",
    "date1 = datetime.datetime.date(datetime.datetime.strptime(\"2020-01-01\", '%Y-%m-%d'))\n",
    "date2 = datetime.datetime.date(datetime.datetime.strptime(\"2020-09-19\", '%Y-%m-%d'))\n",
    "\n",
    "days = abs(date1-date2).days\n",
    "print(days//7)\n",
    "print(date1 < date2)\n",
    "print(\"hey\",str(date2 - datetime.timedelta(days=7)))\n",
    "\n",
    "txt = \"https://mobile.twitter.com/search?q=%23depressed+since%3A2020-01-01+until%3A2020-09-19&src=typed_query\"\n",
    "part = txt.split('%3A')\n",
    "part[2] = 'newwwwwwwwwwwwww&src=typed_query'\n",
    "txt = '%3A'.join(part)\n",
    "print(txt)\n",
    "\n",
    "print(datetime.datetime.date(datetime.datetime.strptime(\"Sep 11\", \"%b %d\")))"
   ]
  },
  {
   "cell_type": "markdown",
   "metadata": {},
   "source": [
    "# Search Words/Hashtags, Input Dates"
   ]
  },
  {
   "cell_type": "code",
   "execution_count": 65,
   "metadata": {},
   "outputs": [],
   "source": [
    "searchWord = \"#depressed\"\n",
    "searchFrom = \"2020-01-01\"\n",
    "searchUntil = \"2020-09-19\""
   ]
  },
  {
   "cell_type": "code",
   "execution_count": 66,
   "metadata": {},
   "outputs": [],
   "source": [
    "class PostsFromTwitter:\n",
    "\n",
    "    def __init__(self, query, fromDate, toDate):\n",
    "        \n",
    "        ''' URL examples\n",
    "        https://mobile.twitter.com/search?q=depressed%2Canxiety&src=typed_query\n",
    "        https://mobile.twitter.com/search?q=%23depressed%23anxiety&src=typed_query\n",
    "        https://mobile.twitter.com/search?q=%23depressed+since%3A2020-01-01+until%3A2020-09-19&src=typed_query\n",
    "        '''\n",
    "        \n",
    "        self.query = quote(query.strip())\n",
    "        self.fromDate = fromDate\n",
    "        self.toDate = toDate\n",
    "        self.numWeeks = self.getNumWeeks()\n",
    "        \n",
    "        self.after_part = (\n",
    "            f\"&src=typed_query\"\n",
    "        )\n",
    "        self.url = f\"https://mobile.twitter.com/search?q={self.query}+since%3A{self.fromDate}+until%3A{self.toDate}\"\n",
    "        self.url += self.after_part\n",
    "        self.tweets = []\n",
    "    \n",
    "    def getNumWeeks(self):        #This function returns the number of the weeks between 2 dates.        \n",
    "        \n",
    "        self.dateFormat1 = datetime.datetime.date(datetime.datetime.strptime(self.fromDate, '%Y-%m-%d'))\n",
    "        self.dateFormat2 = datetime.datetime.date(datetime.datetime.strptime(self.toDate, '%Y-%m-%d'))\n",
    "\n",
    "        return (abs(date1-date2).days)//7\n",
    "\n",
    "    def scrape_tweets(self):\n",
    "        \n",
    "        while self.dateFormat2 > self.dateFormat1 :\n",
    "            \n",
    "            self.url = f\"https://mobile.twitter.com/search?q=%23depressed+since%3A{self.fromDate}+until%3A{str(self.dateFormat2)}&src=typed_query\"\n",
    "            \n",
    "            print(f\"No. of weeks to traverse : {self.numWeeks} and new URL  : {self.url}\")\n",
    "            \n",
    "            reloadCount = 40\n",
    "            while reloadCount > 0 :\n",
    "                #print(\"URL to be scraped :: \", self.url)\n",
    "                content = requests.get(self.url)\n",
    "                soup = BeautifulSoup(content.text, \"html.parser\")\n",
    "                tweet_divs = soup.select(\"#main_content\")[0].select(\".tweet\")\n",
    "                #print(tweet_divs)\n",
    "\n",
    "                for tweet in tweet_divs:\n",
    "                    handle = tweet.find(\"div\", {\"class\": \"username\"}).text.replace(\"\\n\", \" \").strip()\n",
    "                    post = tweet.find(\"div\", {\"class\": \"tweet-text\"}).text.replace(\"\\n\", \" \").strip()\n",
    "                    tweetId = tweet.find(\"div\", {\"class\": \"tweet-text\"})['data-id']\n",
    "                    timestamp = tweet.find(\"td\", {\"class\": \"timestamp\"}).find('a').text.replace(\"\\n\", \" \").strip()\n",
    "                    self.tweets.append([tweetId,handle,post,timestamp])\n",
    "\n",
    "\n",
    "                loadMoreButton = soup.select(\"#main_content\")[0].select(\".w-button-more\")\n",
    "                try:\n",
    "                    nextCursorUrl = \"https://mobile.twitter.com\"+loadMoreButton[0].find('a')['href']\n",
    "                except IndexError:\n",
    "                    print(\"Oops!  list index out of range \" , reloadCount)\n",
    "                    break\n",
    "                self.url = nextCursorUrl\n",
    "                reloadCount = reloadCount - 1\n",
    "            \n",
    "            self.dateFormat2 = (self.dateFormat2 - datetime.timedelta(days=7)) #1 week less\n",
    "            self.numWeeks -= 1\n",
    "            \n",
    "            \n",
    "        return self.tweets\n"
   ]
  },
  {
   "cell_type": "markdown",
   "metadata": {},
   "source": [
    "### Create an object of PostsFromTwitter usign parameters defined above and call the method scrape_tweets()"
   ]
  },
  {
   "cell_type": "code",
   "execution_count": 67,
   "metadata": {},
   "outputs": [
    {
     "name": "stdout",
     "output_type": "stream",
     "text": [
      "No. of weeks to traverse : 37 and new URL  : https://mobile.twitter.com/search?q=%23depressed+since%3A2020-01-01+until%3A2020-09-19&src=typed_query\n",
      "Oops!  list index out of range  11\n",
      "No. of weeks to traverse : 36 and new URL  : https://mobile.twitter.com/search?q=%23depressed+since%3A2020-01-01+until%3A2020-09-12&src=typed_query\n",
      "Oops!  list index out of range  32\n",
      "No. of weeks to traverse : 35 and new URL  : https://mobile.twitter.com/search?q=%23depressed+since%3A2020-01-01+until%3A2020-09-05&src=typed_query\n",
      "Oops!  list index out of range  35\n",
      "No. of weeks to traverse : 34 and new URL  : https://mobile.twitter.com/search?q=%23depressed+since%3A2020-01-01+until%3A2020-08-29&src=typed_query\n",
      "Oops!  list index out of range  35\n",
      "No. of weeks to traverse : 33 and new URL  : https://mobile.twitter.com/search?q=%23depressed+since%3A2020-01-01+until%3A2020-08-22&src=typed_query\n",
      "Oops!  list index out of range  35\n",
      "No. of weeks to traverse : 32 and new URL  : https://mobile.twitter.com/search?q=%23depressed+since%3A2020-01-01+until%3A2020-08-15&src=typed_query\n",
      "Oops!  list index out of range  34\n",
      "No. of weeks to traverse : 31 and new URL  : https://mobile.twitter.com/search?q=%23depressed+since%3A2020-01-01+until%3A2020-08-08&src=typed_query\n",
      "Oops!  list index out of range  35\n",
      "No. of weeks to traverse : 30 and new URL  : https://mobile.twitter.com/search?q=%23depressed+since%3A2020-01-01+until%3A2020-08-01&src=typed_query\n",
      "Oops!  list index out of range  35\n",
      "No. of weeks to traverse : 29 and new URL  : https://mobile.twitter.com/search?q=%23depressed+since%3A2020-01-01+until%3A2020-07-25&src=typed_query\n",
      "Oops!  list index out of range  35\n",
      "No. of weeks to traverse : 28 and new URL  : https://mobile.twitter.com/search?q=%23depressed+since%3A2020-01-01+until%3A2020-07-18&src=typed_query\n",
      "Oops!  list index out of range  35\n",
      "No. of weeks to traverse : 27 and new URL  : https://mobile.twitter.com/search?q=%23depressed+since%3A2020-01-01+until%3A2020-07-11&src=typed_query\n",
      "Oops!  list index out of range  35\n",
      "No. of weeks to traverse : 26 and new URL  : https://mobile.twitter.com/search?q=%23depressed+since%3A2020-01-01+until%3A2020-07-04&src=typed_query\n",
      "Oops!  list index out of range  35\n",
      "No. of weeks to traverse : 25 and new URL  : https://mobile.twitter.com/search?q=%23depressed+since%3A2020-01-01+until%3A2020-06-27&src=typed_query\n",
      "Oops!  list index out of range  34\n",
      "No. of weeks to traverse : 24 and new URL  : https://mobile.twitter.com/search?q=%23depressed+since%3A2020-01-01+until%3A2020-06-20&src=typed_query\n",
      "Oops!  list index out of range  35\n",
      "No. of weeks to traverse : 23 and new URL  : https://mobile.twitter.com/search?q=%23depressed+since%3A2020-01-01+until%3A2020-06-13&src=typed_query\n",
      "Oops!  list index out of range  35\n",
      "No. of weeks to traverse : 22 and new URL  : https://mobile.twitter.com/search?q=%23depressed+since%3A2020-01-01+until%3A2020-06-06&src=typed_query\n",
      "Oops!  list index out of range  35\n",
      "No. of weeks to traverse : 21 and new URL  : https://mobile.twitter.com/search?q=%23depressed+since%3A2020-01-01+until%3A2020-05-30&src=typed_query\n",
      "Oops!  list index out of range  35\n",
      "No. of weeks to traverse : 20 and new URL  : https://mobile.twitter.com/search?q=%23depressed+since%3A2020-01-01+until%3A2020-05-23&src=typed_query\n",
      "Oops!  list index out of range  35\n",
      "No. of weeks to traverse : 19 and new URL  : https://mobile.twitter.com/search?q=%23depressed+since%3A2020-01-01+until%3A2020-05-16&src=typed_query\n",
      "Oops!  list index out of range  33\n",
      "No. of weeks to traverse : 18 and new URL  : https://mobile.twitter.com/search?q=%23depressed+since%3A2020-01-01+until%3A2020-05-09&src=typed_query\n",
      "Oops!  list index out of range  35\n",
      "No. of weeks to traverse : 17 and new URL  : https://mobile.twitter.com/search?q=%23depressed+since%3A2020-01-01+until%3A2020-05-02&src=typed_query\n",
      "Oops!  list index out of range  35\n",
      "No. of weeks to traverse : 16 and new URL  : https://mobile.twitter.com/search?q=%23depressed+since%3A2020-01-01+until%3A2020-04-25&src=typed_query\n",
      "Oops!  list index out of range  35\n",
      "No. of weeks to traverse : 15 and new URL  : https://mobile.twitter.com/search?q=%23depressed+since%3A2020-01-01+until%3A2020-04-18&src=typed_query\n",
      "Oops!  list index out of range  35\n",
      "No. of weeks to traverse : 14 and new URL  : https://mobile.twitter.com/search?q=%23depressed+since%3A2020-01-01+until%3A2020-04-11&src=typed_query\n",
      "Oops!  list index out of range  35\n",
      "No. of weeks to traverse : 13 and new URL  : https://mobile.twitter.com/search?q=%23depressed+since%3A2020-01-01+until%3A2020-04-04&src=typed_query\n",
      "Oops!  list index out of range  35\n",
      "No. of weeks to traverse : 12 and new URL  : https://mobile.twitter.com/search?q=%23depressed+since%3A2020-01-01+until%3A2020-03-28&src=typed_query\n",
      "Oops!  list index out of range  35\n",
      "No. of weeks to traverse : 11 and new URL  : https://mobile.twitter.com/search?q=%23depressed+since%3A2020-01-01+until%3A2020-03-21&src=typed_query\n",
      "Oops!  list index out of range  35\n",
      "No. of weeks to traverse : 10 and new URL  : https://mobile.twitter.com/search?q=%23depressed+since%3A2020-01-01+until%3A2020-03-14&src=typed_query\n",
      "Oops!  list index out of range  35\n",
      "No. of weeks to traverse : 9 and new URL  : https://mobile.twitter.com/search?q=%23depressed+since%3A2020-01-01+until%3A2020-03-07&src=typed_query\n",
      "Oops!  list index out of range  35\n",
      "No. of weeks to traverse : 8 and new URL  : https://mobile.twitter.com/search?q=%23depressed+since%3A2020-01-01+until%3A2020-02-29&src=typed_query\n",
      "Oops!  list index out of range  34\n",
      "No. of weeks to traverse : 7 and new URL  : https://mobile.twitter.com/search?q=%23depressed+since%3A2020-01-01+until%3A2020-02-22&src=typed_query\n",
      "Oops!  list index out of range  34\n",
      "No. of weeks to traverse : 6 and new URL  : https://mobile.twitter.com/search?q=%23depressed+since%3A2020-01-01+until%3A2020-02-15&src=typed_query\n",
      "Oops!  list index out of range  35\n",
      "No. of weeks to traverse : 5 and new URL  : https://mobile.twitter.com/search?q=%23depressed+since%3A2020-01-01+until%3A2020-02-08&src=typed_query\n",
      "Oops!  list index out of range  35\n",
      "No. of weeks to traverse : 4 and new URL  : https://mobile.twitter.com/search?q=%23depressed+since%3A2020-01-01+until%3A2020-02-01&src=typed_query\n",
      "Oops!  list index out of range  35\n",
      "No. of weeks to traverse : 3 and new URL  : https://mobile.twitter.com/search?q=%23depressed+since%3A2020-01-01+until%3A2020-01-25&src=typed_query\n",
      "Oops!  list index out of range  35\n",
      "No. of weeks to traverse : 2 and new URL  : https://mobile.twitter.com/search?q=%23depressed+since%3A2020-01-01+until%3A2020-01-18&src=typed_query\n",
      "Oops!  list index out of range  35\n",
      "No. of weeks to traverse : 1 and new URL  : https://mobile.twitter.com/search?q=%23depressed+since%3A2020-01-01+until%3A2020-01-11&src=typed_query\n",
      "Oops!  list index out of range  35\n",
      "No. of weeks to traverse : 0 and new URL  : https://mobile.twitter.com/search?q=%23depressed+since%3A2020-01-01+until%3A2020-01-04&src=typed_query\n",
      "Oops!  list index out of range  35\n"
     ]
    }
   ],
   "source": [
    "scraperObject = PostsFromTwitter(searchWord,searchFrom,searchUntil)\n",
    "tweetsList = scraperObject.scrape_tweets()"
   ]
  },
  {
   "cell_type": "code",
   "execution_count": 68,
   "metadata": {},
   "outputs": [
    {
     "name": "stdout",
     "output_type": "stream",
     "text": [
      "['1213182496407478272', '@Glass1ncision', \"Got extremely discouraged in town and responded to the weather, negatively. All my plans fell apart, each one; one by one they crumbled and died. Pretty much, dead like my dreams. Just #depressed about the entire day, overall. Think it's just the fact it's so dark & dreary.\", 'Jan 3']\n"
     ]
    },
    {
     "data": {
      "text/plain": [
       "3902"
      ]
     },
     "execution_count": 68,
     "metadata": {},
     "output_type": "execute_result"
    }
   ],
   "source": [
    "print(tweetsList[len(tweetsList)-1])\n",
    "len(tweetsList)"
   ]
  },
  {
   "cell_type": "code",
   "execution_count": 69,
   "metadata": {},
   "outputs": [
    {
     "data": {
      "text/html": [
       "<div>\n",
       "<style scoped>\n",
       "    .dataframe tbody tr th:only-of-type {\n",
       "        vertical-align: middle;\n",
       "    }\n",
       "\n",
       "    .dataframe tbody tr th {\n",
       "        vertical-align: top;\n",
       "    }\n",
       "\n",
       "    .dataframe thead th {\n",
       "        text-align: right;\n",
       "    }\n",
       "</style>\n",
       "<table border=\"1\" class=\"dataframe\">\n",
       "  <thead>\n",
       "    <tr style=\"text-align: right;\">\n",
       "      <th></th>\n",
       "      <th>tweet_id</th>\n",
       "      <th>@</th>\n",
       "      <th>tweet</th>\n",
       "      <th>date</th>\n",
       "    </tr>\n",
       "  </thead>\n",
       "  <tbody>\n",
       "    <tr>\n",
       "      <td>0</td>\n",
       "      <td>1306491288850706433</td>\n",
       "      <td>@Austin7397</td>\n",
       "      <td>It hurts. It hurts a lot. But I'll keep it to ...</td>\n",
       "      <td>Sep 17</td>\n",
       "    </tr>\n",
       "    <tr>\n",
       "      <td>1</td>\n",
       "      <td>1306827821625552897</td>\n",
       "      <td>@InveigleMagazi1</td>\n",
       "      <td>How To Cope with Depression inveiglemagazine.c...</td>\n",
       "      <td>Sep 17</td>\n",
       "    </tr>\n",
       "    <tr>\n",
       "      <td>2</td>\n",
       "      <td>1307095401883893764</td>\n",
       "      <td>@Zee_Kamboh_25</td>\n",
       "      <td>#Depressed...? Earphones..! Volume up..! And i...</td>\n",
       "      <td>Sep 18</td>\n",
       "    </tr>\n",
       "    <tr>\n",
       "      <td>3</td>\n",
       "      <td>1306960154773004289</td>\n",
       "      <td>@afh_una</td>\n",
       "      <td>Today, once again I look empty.  #depression #...</td>\n",
       "      <td>Sep 18</td>\n",
       "    </tr>\n",
       "    <tr>\n",
       "      <td>4</td>\n",
       "      <td>1306760408745811968</td>\n",
       "      <td>@PHMIWTKM</td>\n",
       "      <td>Some times you just gotta walk away #hurt #dep...</td>\n",
       "      <td>Sep 17</td>\n",
       "    </tr>\n",
       "    <tr>\n",
       "      <td>...</td>\n",
       "      <td>...</td>\n",
       "      <td>...</td>\n",
       "      <td>...</td>\n",
       "      <td>...</td>\n",
       "    </tr>\n",
       "    <tr>\n",
       "      <td>3897</td>\n",
       "      <td>1212649006544949248</td>\n",
       "      <td>@JosephBlade</td>\n",
       "      <td>It's 3 AM. I got 2 choices. Be #depressed that...</td>\n",
       "      <td>Jan 2</td>\n",
       "    </tr>\n",
       "    <tr>\n",
       "      <td>3898</td>\n",
       "      <td>1212625708612087808</td>\n",
       "      <td>@anniesdreaming</td>\n",
       "      <td>Anyone else feeling trapped and intensely emot...</td>\n",
       "      <td>Jan 1</td>\n",
       "    </tr>\n",
       "    <tr>\n",
       "      <td>3899</td>\n",
       "      <td>1212384194460078080</td>\n",
       "      <td>@samanthajoule</td>\n",
       "      <td>We have a fresh new day, a fresh new year &amp; a ...</td>\n",
       "      <td>Jan 1</td>\n",
       "    </tr>\n",
       "    <tr>\n",
       "      <td>3900</td>\n",
       "      <td>1213200059933822978</td>\n",
       "      <td>@msgcruz</td>\n",
       "      <td>thats it, i am turning to depression and heavy...</td>\n",
       "      <td>Jan 3</td>\n",
       "    </tr>\n",
       "    <tr>\n",
       "      <td>3901</td>\n",
       "      <td>1213182496407478272</td>\n",
       "      <td>@Glass1ncision</td>\n",
       "      <td>Got extremely discouraged in town and responde...</td>\n",
       "      <td>Jan 3</td>\n",
       "    </tr>\n",
       "  </tbody>\n",
       "</table>\n",
       "<p>3902 rows × 4 columns</p>\n",
       "</div>"
      ],
      "text/plain": [
       "                 tweet_id                 @  \\\n",
       "0     1306491288850706433       @Austin7397   \n",
       "1     1306827821625552897  @InveigleMagazi1   \n",
       "2     1307095401883893764    @Zee_Kamboh_25   \n",
       "3     1306960154773004289          @afh_una   \n",
       "4     1306760408745811968         @PHMIWTKM   \n",
       "...                   ...               ...   \n",
       "3897  1212649006544949248      @JosephBlade   \n",
       "3898  1212625708612087808   @anniesdreaming   \n",
       "3899  1212384194460078080    @samanthajoule   \n",
       "3900  1213200059933822978          @msgcruz   \n",
       "3901  1213182496407478272    @Glass1ncision   \n",
       "\n",
       "                                                  tweet    date  \n",
       "0     It hurts. It hurts a lot. But I'll keep it to ...  Sep 17  \n",
       "1     How To Cope with Depression inveiglemagazine.c...  Sep 17  \n",
       "2     #Depressed...? Earphones..! Volume up..! And i...  Sep 18  \n",
       "3     Today, once again I look empty.  #depression #...  Sep 18  \n",
       "4     Some times you just gotta walk away #hurt #dep...  Sep 17  \n",
       "...                                                 ...     ...  \n",
       "3897  It's 3 AM. I got 2 choices. Be #depressed that...   Jan 2  \n",
       "3898  Anyone else feeling trapped and intensely emot...   Jan 1  \n",
       "3899  We have a fresh new day, a fresh new year & a ...   Jan 1  \n",
       "3900  thats it, i am turning to depression and heavy...   Jan 3  \n",
       "3901  Got extremely discouraged in town and responde...   Jan 3  \n",
       "\n",
       "[3902 rows x 4 columns]"
      ]
     },
     "execution_count": 69,
     "metadata": {},
     "output_type": "execute_result"
    }
   ],
   "source": [
    "df = pd.DataFrame(tweetsList,columns=['tweet_id','@','tweet','date'])\n",
    "df"
   ]
  },
  {
   "cell_type": "code",
   "execution_count": 70,
   "metadata": {},
   "outputs": [],
   "source": [
    "df.to_csv(r'tweetsList.csv',index=False)"
   ]
  },
  {
   "cell_type": "code",
   "execution_count": null,
   "metadata": {},
   "outputs": [],
   "source": []
  }
 ],
 "metadata": {
  "kernelspec": {
   "display_name": "Python 3",
   "language": "python",
   "name": "python3"
  },
  "language_info": {
   "codemirror_mode": {
    "name": "ipython",
    "version": 3
   },
   "file_extension": ".py",
   "mimetype": "text/x-python",
   "name": "python",
   "nbconvert_exporter": "python",
   "pygments_lexer": "ipython3",
   "version": "3.7.4"
  }
 },
 "nbformat": 4,
 "nbformat_minor": 4
}
