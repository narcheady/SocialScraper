{
 "cells": [
  {
   "cell_type": "code",
   "execution_count": null,
   "metadata": {},
   "outputs": [],
   "source": [
    "#Request test block\n",
    "import requests\n",
    "from bs4 import BeautifulSoup\n",
    "\n",
    "url = \"https://twitter.com/search?q=depressed&src=typed_query\"\n",
    "\n",
    "response = requests.get(url)\n",
    "\n",
    "soup = BeautifulSoup(response.text, \"html.parser\")\n",
    "\n",
    "print(soup.find_all('p')[0].get_text())\n",
    "\n",
    "#This is what we get if perform a GET request on Twitter URL : https://twitter.com/search?q=depressed&src=typed_query"
   ]
  },
  {
   "cell_type": "code",
   "execution_count": null,
   "metadata": {},
   "outputs": [],
   "source": [
    "import requests\n",
    "from bs4 import BeautifulSoup\n",
    "from urllib.parse import quote\n",
    "import pandas as pd\n",
    "import datetime"
   ]
  },
  {
   "cell_type": "code",
   "execution_count": null,
   "metadata": {},
   "outputs": [],
   "source": [
    "#This is experiment block\n",
    "date1 = datetime.datetime.date(datetime.datetime.strptime(\"2020-01-01\", '%Y-%m-%d'))\n",
    "date2 = datetime.datetime.date(datetime.datetime.strptime(\"2020-09-19\", '%Y-%m-%d'))\n",
    "\n",
    "days = abs(date1-date2).days\n",
    "print(days//7)\n",
    "print(date1 < date2)\n",
    "print(\"hey\",str(date2 - datetime.timedelta(days=7)))\n",
    "\n",
    "txt = \"https://mobile.twitter.com/search?q=%23twitter+since%3A2020-01-01+until%3A2020-09-19&src=typed_query\"\n",
    "part = txt.split('%3A')\n",
    "part[2] = 'newwwwwwwwwwwwww&src=typed_query'\n",
    "txt = '%3A'.join(part)\n",
    "print(txt)\n",
    "\n",
    "print(datetime.datetime.date(datetime.datetime.strptime(\"Sep 11\", \"%b %d\")))"
   ]
  },
  {
   "cell_type": "markdown",
   "metadata": {},
   "source": [
    "# Search Words/Hashtags, Input Dates"
   ]
  },
  {
   "cell_type": "code",
   "execution_count": null,
   "metadata": {},
   "outputs": [],
   "source": [
    "searchWord = \"#twitter\"\n",
    "searchFrom = \"2019-01-01\"\n",
    "searchUntil = \"2019-12-31\""
   ]
  },
  {
   "cell_type": "code",
   "execution_count": null,
   "metadata": {},
   "outputs": [],
   "source": [
    "class PostsFromTwitter:\n",
    "\n",
    "    def __init__(self, query, fromDate, toDate):\n",
    "        \n",
    "        ''' URL examples\n",
    "        https://mobile.twitter.com/search?q=twitter%2Canxiety&src=typed_query\n",
    "        https://mobile.twitter.com/search?q=%23twitter%23anxiety&src=typed_query\n",
    "        https://mobile.twitter.com/search?q=%23twitter+since%3A2020-01-01+until%3A2020-09-19&src=typed_query\n",
    "        '''\n",
    "        \n",
    "        self.query = quote(query.strip())\n",
    "        self.fromDate = fromDate\n",
    "        self.toDate = toDate\n",
    "        self.numWeeks = self.getNumWeeks()\n",
    "        \n",
    "        self.after_part = (\n",
    "            f\"&src=typed_query\"\n",
    "        )\n",
    "        self.url = f\"https://mobile.twitter.com/search?q={self.query}+since%3A{self.fromDate}+until%3A{self.toDate}\"\n",
    "        self.url += self.after_part\n",
    "        self.tweets = []\n",
    "    \n",
    "    def getNumWeeks(self):        #This function returns the number of the weeks between 2 dates.        \n",
    "        \n",
    "        self.dateFormat1 = datetime.datetime.date(datetime.datetime.strptime(self.fromDate, '%Y-%m-%d'))\n",
    "        self.dateFormat2 = datetime.datetime.date(datetime.datetime.strptime(self.toDate, '%Y-%m-%d'))\n",
    "\n",
    "        return (abs(self.dateFormat1-self.dateFormat2).days)//7\n",
    "\n",
    "    def scrape_tweets(self):\n",
    "        \n",
    "        while self.dateFormat2 > self.dateFormat1 :\n",
    "            \n",
    "            self.url = f\"https://mobile.twitter.com/search?q=%23depressed+since%3A{self.fromDate}+until%3A{str(self.dateFormat2)}&src=typed_query\"\n",
    "            \n",
    "            print(f\"No. of weeks to traverse : {self.numWeeks} and new URL  : {self.url}\")\n",
    "            \n",
    "            reloadCount = 40\n",
    "            while reloadCount > 0 :\n",
    "                #print(\"URL to be scraped :: \", self.url)\n",
    "                content = requests.get(self.url)\n",
    "                soup = BeautifulSoup(content.text, \"html.parser\")\n",
    "                tweet_divs = soup.select(\"#main_content\")[0].select(\".tweet\")\n",
    "                #print(tweet_divs)\n",
    "\n",
    "                for tweet in tweet_divs:\n",
    "                    handle = tweet.find(\"div\", {\"class\": \"username\"}).text.replace(\"\\n\", \" \").strip()\n",
    "                    post = tweet.find(\"div\", {\"class\": \"tweet-text\"}).text.replace(\"\\n\", \" \").strip()\n",
    "                    tweetId = tweet.find(\"div\", {\"class\": \"tweet-text\"})['data-id']\n",
    "                    timestamp = tweet.find(\"td\", {\"class\": \"timestamp\"}).find('a').text.replace(\"\\n\", \" \").strip()\n",
    "                    self.tweets.append([tweetId,handle,post,timestamp])\n",
    "\n",
    "\n",
    "                loadMoreButton = soup.select(\"#main_content\")[0].select(\".w-button-more\")\n",
    "                try:\n",
    "                    nextCursorUrl = \"https://mobile.twitter.com\"+loadMoreButton[0].find('a')['href']\n",
    "                except IndexError:\n",
    "                    print(\"Oops!  list index out of range \" , reloadCount)\n",
    "                    break\n",
    "                self.url = nextCursorUrl\n",
    "                reloadCount = reloadCount - 1\n",
    "            \n",
    "            self.dateFormat2 = (self.dateFormat2 - datetime.timedelta(days=7)) #1 week less\n",
    "            self.numWeeks -= 1\n",
    "            \n",
    "            \n",
    "        return self.tweets\n"
   ]
  },
  {
   "cell_type": "markdown",
   "metadata": {},
   "source": [
    "### Create an object of PostsFromTwitter usign parameters defined above and call the method scrape_tweets()"
   ]
  },
  {
   "cell_type": "code",
   "execution_count": null,
   "metadata": {},
   "outputs": [],
   "source": [
    "scraperObject = PostsFromTwitter(searchWord,searchFrom,searchUntil)\n",
    "tweetsList = scraperObject.scrape_tweets()"
   ]
  },
  {
   "cell_type": "code",
   "execution_count": null,
   "metadata": {},
   "outputs": [],
   "source": [
    "print(tweetsList[len(tweetsList)-1])\n",
    "len(tweetsList)"
   ]
  },
  {
   "cell_type": "code",
   "execution_count": null,
   "metadata": {},
   "outputs": [],
   "source": [
    "df = pd.DataFrame(tweetsList,columns=['tweet_id','@','tweet','date'])\n",
    "df"
   ]
  },
  {
   "cell_type": "code",
   "execution_count": null,
   "metadata": {},
   "outputs": [],
   "source": [
    "df.to_csv(r'tweetsList.csv',index=False)"
   ]
  },
  {
   "cell_type": "code",
   "execution_count": null,
   "metadata": {},
   "outputs": [],
   "source": []
  }
 ],
 "metadata": {
  "kernelspec": {
   "display_name": "Python 3",
   "language": "python",
   "name": "python3"
  },
  "language_info": {
   "codemirror_mode": {
    "name": "ipython",
    "version": 3
   },
   "file_extension": ".py",
   "mimetype": "text/x-python",
   "name": "python",
   "nbconvert_exporter": "python",
   "pygments_lexer": "ipython3",
   "version": "3.7.4"
  }
 },
 "nbformat": 4,
 "nbformat_minor": 4
}
